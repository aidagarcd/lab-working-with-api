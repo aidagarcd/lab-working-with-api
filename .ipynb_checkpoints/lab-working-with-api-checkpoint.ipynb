{
 "cells": [
  {
   "cell_type": "markdown",
   "id": "04cc912b",
   "metadata": {},
   "source": [
    "#### Instructions:\n",
    "\n",
    " Adapt the code, function that returns new data, add info, no prizes, no companies, be creative with relevant information\n",
    "\n",
    "https://rapidapi.com/aedbx-aedbx/api/aerodatabox/"
   ]
  },
  {
   "cell_type": "code",
   "execution_count": 8,
   "id": "dfd83bf7",
   "metadata": {},
   "outputs": [],
   "source": [
    "import requests\n",
    "import pandas as pd"
   ]
  },
  {
   "cell_type": "code",
   "execution_count": 9,
   "id": "e93fae2b",
   "metadata": {},
   "outputs": [
    {
     "data": {
      "text/plain": [
       "<Response [403]>"
      ]
     },
     "execution_count": 9,
     "metadata": {},
     "output_type": "execute_result"
    }
   ],
   "source": [
    "url = \"https://aerodatabox.p.rapidapi.com/flights/%7BsearchBy%7D/KL1395/dates/2020-06-01/2020-06-15\"\n",
    "\n",
    "headers = {\n",
    "\"X-RapidAPI-Key\": \"SIGN-UP-FOR-KEY\",\n",
    "\"X-RapidAPI-Host\": \"aerodatabox.p.rapidapi.com\"\n",
    "}\n",
    "\n",
    "response = requests.get(url, headers=headers)\n",
    "response"
   ]
  },
  {
   "cell_type": "code",
   "execution_count": 10,
   "id": "fc209f76",
   "metadata": {},
   "outputs": [
    {
     "name": "stdout",
     "output_type": "stream",
     "text": [
      "Response 403. Seems that this link does not work i will check anocher free api web\n"
     ]
    }
   ],
   "source": [
    "print('Response 403. Seems that this link does not work i will check anocher free api web')"
   ]
  },
  {
   "cell_type": "code",
   "execution_count": null,
   "id": "81a197b4",
   "metadata": {},
   "outputs": [],
   "source": []
  }
 ],
 "metadata": {
  "kernelspec": {
   "display_name": "Python 3 (ipykernel)",
   "language": "python",
   "name": "python3"
  },
  "language_info": {
   "codemirror_mode": {
    "name": "ipython",
    "version": 3
   },
   "file_extension": ".py",
   "mimetype": "text/x-python",
   "name": "python",
   "nbconvert_exporter": "python",
   "pygments_lexer": "ipython3",
   "version": "3.11.4"
  }
 },
 "nbformat": 4,
 "nbformat_minor": 5
}
