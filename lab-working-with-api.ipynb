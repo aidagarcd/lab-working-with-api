{
 "cells": [
  {
   "cell_type": "markdown",
   "id": "04cc912b",
   "metadata": {},
   "source": [
    "#### Instructions:\n",
    "\n",
    " Adapt the code, function that returns new data, add info, no prizes, no companies, be creative with relevant information\n",
    "\n",
    "https://rapidapi.com/aedbx-aedbx/api/aerodatabox/"
   ]
  },
  {
   "cell_type": "code",
   "execution_count": 14,
   "id": "dfd83bf7",
   "metadata": {},
   "outputs": [],
   "source": [
    "import requests\n",
    "import pandas as pd"
   ]
  },
  {
   "cell_type": "code",
   "execution_count": 15,
   "id": "e93fae2b",
   "metadata": {},
   "outputs": [
    {
     "data": {
      "text/plain": [
       "<Response [403]>"
      ]
     },
     "execution_count": 15,
     "metadata": {},
     "output_type": "execute_result"
    }
   ],
   "source": [
    "url = \"https://aerodatabox.p.rapidapi.com/flights/%7BsearchBy%7D/KL1395/dates/2020-06-01/2020-06-15\"\n",
    "\n",
    "headers = {\n",
    "\"X-RapidAPI-Key\": \"SIGN-UP-FOR-KEY\",\n",
    "\"X-RapidAPI-Host\": \"aerodatabox.p.rapidapi.com\"\n",
    "}\n",
    "\n",
    "response = requests.get(url, headers=headers)\n",
    "response"
   ]
  },
  {
   "cell_type": "code",
   "execution_count": 16,
   "id": "fc209f76",
   "metadata": {},
   "outputs": [
    {
     "name": "stdout",
     "output_type": "stream",
     "text": [
      "Response 403. Seems that this link does not work i will check anocher free api web\n"
     ]
    }
   ],
   "source": [
    "print('Response 403. Seems that this link does not work i will check anocher free api web')"
   ]
  },
  {
   "cell_type": "code",
   "execution_count": 17,
   "id": "81a197b4",
   "metadata": {},
   "outputs": [
    {
     "data": {
      "text/plain": [
       "{'searchBy': 'madrid',\n",
       " 'count': 4,\n",
       " 'items': [{'icao': 'LEMD',\n",
       "   'iata': 'MAD',\n",
       "   'name': 'Madrid Adolfo Suárez –Barajas',\n",
       "   'shortName': 'Adolfo Suárez –Barajas',\n",
       "   'municipalityName': 'Madrid',\n",
       "   'location': {'lat': 40.4936, 'lon': -3.56676},\n",
       "   'countryCode': 'ES'},\n",
       "  {'icao': 'LECU',\n",
       "   'iata': 'ECV',\n",
       "   'name': 'Madrid Cuatro Vientos',\n",
       "   'shortName': 'Cuatro Vientos',\n",
       "   'municipalityName': 'Madrid',\n",
       "   'location': {'lat': 40.3707, 'lon': -3.78514},\n",
       "   'countryCode': 'ES'},\n",
       "  {'icao': 'LETO',\n",
       "   'iata': 'TOJ',\n",
       "   'name': 'Madrid Torrejón',\n",
       "   'shortName': 'Torrejón',\n",
       "   'municipalityName': 'Madrid',\n",
       "   'location': {'lat': 40.4967, 'lon': -3.445869},\n",
       "   'countryCode': 'ES'},\n",
       "  {'icao': 'MMIA',\n",
       "   'iata': 'CLQ',\n",
       "   'name': 'Colima Licenciado Miguel de la Madrid',\n",
       "   'shortName': 'Licenciado Miguel de la Madrid',\n",
       "   'municipalityName': 'Colima',\n",
       "   'location': {'lat': 19.277, 'lon': -103.577},\n",
       "   'countryCode': 'MX'}]}"
      ]
     },
     "execution_count": 17,
     "metadata": {},
     "output_type": "execute_result"
    }
   ],
   "source": [
    "url = \"https://aerodatabox.p.rapidapi.com/airports/search/term\"\n",
    "    \n",
    "h2 = {\"q\":\"madrid\",\"limit\":\"10\"}\n",
    "\n",
    "headers = {\n",
    "    'x-rapidapi-host': \"aerodatabox.p.rapidapi.com\",\n",
    "    'x-rapidapi-key': \"9613ca6ca5msh62659872159916fp1a0a2cjsndd9a3e6ff324\"\n",
    "    }\n",
    "\n",
    "response = requests.get(url, headers=headers, params=h2)\n",
    "result = response.json()\n",
    "result"
   ]
  },
  {
   "cell_type": "code",
   "execution_count": 19,
   "id": "1d2116d7",
   "metadata": {},
   "outputs": [
    {
     "data": {
      "text/html": [
       "<div>\n",
       "<style scoped>\n",
       "    .dataframe tbody tr th:only-of-type {\n",
       "        vertical-align: middle;\n",
       "    }\n",
       "\n",
       "    .dataframe tbody tr th {\n",
       "        vertical-align: top;\n",
       "    }\n",
       "\n",
       "    .dataframe thead th {\n",
       "        text-align: right;\n",
       "    }\n",
       "</style>\n",
       "<table border=\"1\" class=\"dataframe\">\n",
       "  <thead>\n",
       "    <tr style=\"text-align: right;\">\n",
       "      <th></th>\n",
       "      <th>icao</th>\n",
       "      <th>iata</th>\n",
       "      <th>name</th>\n",
       "      <th>shortName</th>\n",
       "      <th>municipalityName</th>\n",
       "      <th>countryCode</th>\n",
       "      <th>location.lat</th>\n",
       "      <th>location.lon</th>\n",
       "    </tr>\n",
       "  </thead>\n",
       "  <tbody>\n",
       "    <tr>\n",
       "      <th>0</th>\n",
       "      <td>LEMD</td>\n",
       "      <td>MAD</td>\n",
       "      <td>Madrid Adolfo Suárez –Barajas</td>\n",
       "      <td>Adolfo Suárez –Barajas</td>\n",
       "      <td>Madrid</td>\n",
       "      <td>ES</td>\n",
       "      <td>40.4936</td>\n",
       "      <td>-3.566760</td>\n",
       "    </tr>\n",
       "    <tr>\n",
       "      <th>1</th>\n",
       "      <td>LECU</td>\n",
       "      <td>ECV</td>\n",
       "      <td>Madrid Cuatro Vientos</td>\n",
       "      <td>Cuatro Vientos</td>\n",
       "      <td>Madrid</td>\n",
       "      <td>ES</td>\n",
       "      <td>40.3707</td>\n",
       "      <td>-3.785140</td>\n",
       "    </tr>\n",
       "    <tr>\n",
       "      <th>2</th>\n",
       "      <td>LETO</td>\n",
       "      <td>TOJ</td>\n",
       "      <td>Madrid Torrejón</td>\n",
       "      <td>Torrejón</td>\n",
       "      <td>Madrid</td>\n",
       "      <td>ES</td>\n",
       "      <td>40.4967</td>\n",
       "      <td>-3.445869</td>\n",
       "    </tr>\n",
       "    <tr>\n",
       "      <th>3</th>\n",
       "      <td>MMIA</td>\n",
       "      <td>CLQ</td>\n",
       "      <td>Colima Licenciado Miguel de la Madrid</td>\n",
       "      <td>Licenciado Miguel de la Madrid</td>\n",
       "      <td>Colima</td>\n",
       "      <td>MX</td>\n",
       "      <td>19.2770</td>\n",
       "      <td>-103.577000</td>\n",
       "    </tr>\n",
       "  </tbody>\n",
       "</table>\n",
       "</div>"
      ],
      "text/plain": [
       "   icao iata                                   name  \\\n",
       "0  LEMD  MAD          Madrid Adolfo Suárez –Barajas   \n",
       "1  LECU  ECV                  Madrid Cuatro Vientos   \n",
       "2  LETO  TOJ                        Madrid Torrejón   \n",
       "3  MMIA  CLQ  Colima Licenciado Miguel de la Madrid   \n",
       "\n",
       "                        shortName municipalityName countryCode  location.lat  \\\n",
       "0          Adolfo Suárez –Barajas           Madrid          ES       40.4936   \n",
       "1                  Cuatro Vientos           Madrid          ES       40.3707   \n",
       "2                        Torrejón           Madrid          ES       40.4967   \n",
       "3  Licenciado Miguel de la Madrid           Colima          MX       19.2770   \n",
       "\n",
       "   location.lon  \n",
       "0     -3.566760  \n",
       "1     -3.785140  \n",
       "2     -3.445869  \n",
       "3   -103.577000  "
      ]
     },
     "execution_count": 19,
     "metadata": {},
     "output_type": "execute_result"
    }
   ],
   "source": [
    "nrm = response.json()\n",
    "nrm['items']\n",
    "pd.json_normalize(nrm['items'])"
   ]
  },
  {
   "cell_type": "code",
   "execution_count": 20,
   "id": "ed9c2c2c",
   "metadata": {},
   "outputs": [
    {
     "data": {
      "text/html": [
       "<div>\n",
       "<style scoped>\n",
       "    .dataframe tbody tr th:only-of-type {\n",
       "        vertical-align: middle;\n",
       "    }\n",
       "\n",
       "    .dataframe tbody tr th {\n",
       "        vertical-align: top;\n",
       "    }\n",
       "\n",
       "    .dataframe thead th {\n",
       "        text-align: right;\n",
       "    }\n",
       "</style>\n",
       "<table border=\"1\" class=\"dataframe\">\n",
       "  <thead>\n",
       "    <tr style=\"text-align: right;\">\n",
       "      <th></th>\n",
       "      <th>icao</th>\n",
       "      <th>iata</th>\n",
       "      <th>name</th>\n",
       "      <th>shortName</th>\n",
       "      <th>municipalityName</th>\n",
       "      <th>countryCode</th>\n",
       "      <th>location.lat</th>\n",
       "      <th>location.lon</th>\n",
       "    </tr>\n",
       "  </thead>\n",
       "  <tbody>\n",
       "    <tr>\n",
       "      <th>0</th>\n",
       "      <td>LEMD</td>\n",
       "      <td>MAD</td>\n",
       "      <td>Madrid Adolfo Suárez –Barajas</td>\n",
       "      <td>Adolfo Suárez –Barajas</td>\n",
       "      <td>Madrid</td>\n",
       "      <td>ES</td>\n",
       "      <td>40.4936</td>\n",
       "      <td>-3.566760</td>\n",
       "    </tr>\n",
       "    <tr>\n",
       "      <th>1</th>\n",
       "      <td>LECU</td>\n",
       "      <td>ECV</td>\n",
       "      <td>Madrid Cuatro Vientos</td>\n",
       "      <td>Cuatro Vientos</td>\n",
       "      <td>Madrid</td>\n",
       "      <td>ES</td>\n",
       "      <td>40.3707</td>\n",
       "      <td>-3.785140</td>\n",
       "    </tr>\n",
       "    <tr>\n",
       "      <th>2</th>\n",
       "      <td>LETO</td>\n",
       "      <td>TOJ</td>\n",
       "      <td>Madrid Torrejón</td>\n",
       "      <td>Torrejón</td>\n",
       "      <td>Madrid</td>\n",
       "      <td>ES</td>\n",
       "      <td>40.4967</td>\n",
       "      <td>-3.445869</td>\n",
       "    </tr>\n",
       "    <tr>\n",
       "      <th>3</th>\n",
       "      <td>MMIA</td>\n",
       "      <td>CLQ</td>\n",
       "      <td>Colima Licenciado Miguel de la Madrid</td>\n",
       "      <td>Licenciado Miguel de la Madrid</td>\n",
       "      <td>Colima</td>\n",
       "      <td>MX</td>\n",
       "      <td>19.2770</td>\n",
       "      <td>-103.577000</td>\n",
       "    </tr>\n",
       "  </tbody>\n",
       "</table>\n",
       "</div>"
      ],
      "text/plain": [
       "   icao iata                                   name  \\\n",
       "0  LEMD  MAD          Madrid Adolfo Suárez –Barajas   \n",
       "1  LECU  ECV                  Madrid Cuatro Vientos   \n",
       "2  LETO  TOJ                        Madrid Torrejón   \n",
       "3  MMIA  CLQ  Colima Licenciado Miguel de la Madrid   \n",
       "\n",
       "                        shortName municipalityName countryCode  location.lat  \\\n",
       "0          Adolfo Suárez –Barajas           Madrid          ES       40.4936   \n",
       "1                  Cuatro Vientos           Madrid          ES       40.3707   \n",
       "2                        Torrejón           Madrid          ES       40.4967   \n",
       "3  Licenciado Miguel de la Madrid           Colima          MX       19.2770   \n",
       "\n",
       "   location.lon  \n",
       "0     -3.566760  \n",
       "1     -3.785140  \n",
       "2     -3.445869  \n",
       "3   -103.577000  "
      ]
     },
     "execution_count": 20,
     "metadata": {},
     "output_type": "execute_result"
    }
   ],
   "source": [
    "pd.json_normalize(nrm['items'])"
   ]
  },
  {
   "cell_type": "code",
   "execution_count": 22,
   "id": "5eebfbf6",
   "metadata": {},
   "outputs": [
    {
     "data": {
      "text/plain": [
       "{'searchBy': 'Barcelona',\n",
       " 'count': 2,\n",
       " 'items': [{'icao': 'LEBL',\n",
       "   'iata': 'BCN',\n",
       "   'name': 'Barcelona ',\n",
       "   'shortName': 'Barcelona',\n",
       "   'municipalityName': 'Barcelona',\n",
       "   'location': {'lat': 41.2971, 'lon': 2.078459},\n",
       "   'countryCode': 'ES'},\n",
       "  {'icao': 'SVBC',\n",
       "   'iata': 'BLA',\n",
       "   'name': 'Barcelona General Jose Antonio Anzoategui',\n",
       "   'shortName': 'General Jose Antonio Anzoategui',\n",
       "   'municipalityName': 'Barcelona',\n",
       "   'location': {'lat': 10.107099, 'lon': -64.6892},\n",
       "   'countryCode': 'VE'}]}"
      ]
     },
     "execution_count": 22,
     "metadata": {},
     "output_type": "execute_result"
    }
   ],
   "source": [
    "querystring = {\"q\":\"Barcelona\",\"limit\":\"10\"}\n",
    "\n",
    "response = requests.request(\"GET\", url, headers=headers, params=querystring)\n",
    "items = response.json()\n",
    "items"
   ]
  },
  {
   "cell_type": "code",
   "execution_count": 24,
   "id": "9b9a9f89",
   "metadata": {},
   "outputs": [
    {
     "data": {
      "text/plain": [
       "[{'icao': 'LEBL',\n",
       "  'iata': 'BCN',\n",
       "  'name': 'Barcelona ',\n",
       "  'shortName': 'Barcelona',\n",
       "  'municipalityName': 'Barcelona',\n",
       "  'location': {'lat': 41.2971, 'lon': 2.078459},\n",
       "  'countryCode': 'ES'},\n",
       " {'icao': 'SVBC',\n",
       "  'iata': 'BLA',\n",
       "  'name': 'Barcelona General Jose Antonio Anzoategui',\n",
       "  'shortName': 'General Jose Antonio Anzoategui',\n",
       "  'municipalityName': 'Barcelona',\n",
       "  'location': {'lat': 10.107099, 'lon': -64.6892},\n",
       "  'countryCode': 'VE'}]"
      ]
     },
     "execution_count": 24,
     "metadata": {},
     "output_type": "execute_result"
    }
   ],
   "source": [
    "nrm_ = response.json()\n",
    "nrm_['items']"
   ]
  },
  {
   "cell_type": "code",
   "execution_count": 25,
   "id": "9795991a",
   "metadata": {},
   "outputs": [
    {
     "data": {
      "text/html": [
       "<div>\n",
       "<style scoped>\n",
       "    .dataframe tbody tr th:only-of-type {\n",
       "        vertical-align: middle;\n",
       "    }\n",
       "\n",
       "    .dataframe tbody tr th {\n",
       "        vertical-align: top;\n",
       "    }\n",
       "\n",
       "    .dataframe thead th {\n",
       "        text-align: right;\n",
       "    }\n",
       "</style>\n",
       "<table border=\"1\" class=\"dataframe\">\n",
       "  <thead>\n",
       "    <tr style=\"text-align: right;\">\n",
       "      <th></th>\n",
       "      <th>icao</th>\n",
       "      <th>iata</th>\n",
       "      <th>name</th>\n",
       "      <th>shortName</th>\n",
       "      <th>municipalityName</th>\n",
       "      <th>countryCode</th>\n",
       "      <th>location.lat</th>\n",
       "      <th>location.lon</th>\n",
       "    </tr>\n",
       "  </thead>\n",
       "  <tbody>\n",
       "    <tr>\n",
       "      <th>0</th>\n",
       "      <td>LEBL</td>\n",
       "      <td>BCN</td>\n",
       "      <td>Barcelona</td>\n",
       "      <td>Barcelona</td>\n",
       "      <td>Barcelona</td>\n",
       "      <td>ES</td>\n",
       "      <td>41.297100</td>\n",
       "      <td>2.078459</td>\n",
       "    </tr>\n",
       "    <tr>\n",
       "      <th>1</th>\n",
       "      <td>SVBC</td>\n",
       "      <td>BLA</td>\n",
       "      <td>Barcelona General Jose Antonio Anzoategui</td>\n",
       "      <td>General Jose Antonio Anzoategui</td>\n",
       "      <td>Barcelona</td>\n",
       "      <td>VE</td>\n",
       "      <td>10.107099</td>\n",
       "      <td>-64.689200</td>\n",
       "    </tr>\n",
       "  </tbody>\n",
       "</table>\n",
       "</div>"
      ],
      "text/plain": [
       "   icao iata                                       name  \\\n",
       "0  LEBL  BCN                                 Barcelona    \n",
       "1  SVBC  BLA  Barcelona General Jose Antonio Anzoategui   \n",
       "\n",
       "                         shortName municipalityName countryCode  location.lat  \\\n",
       "0                        Barcelona        Barcelona          ES     41.297100   \n",
       "1  General Jose Antonio Anzoategui        Barcelona          VE     10.107099   \n",
       "\n",
       "   location.lon  \n",
       "0      2.078459  \n",
       "1    -64.689200  "
      ]
     },
     "execution_count": 25,
     "metadata": {},
     "output_type": "execute_result"
    }
   ],
   "source": [
    "pd.json_normalize(nrm_['items'])"
   ]
  },
  {
   "cell_type": "code",
   "execution_count": 26,
   "id": "1880e22a",
   "metadata": {},
   "outputs": [
    {
     "name": "stdout",
     "output_type": "stream",
     "text": [
      "{'from': {'icao': 'LEBL', 'iata': 'BCN', 'name': 'Barcelona ', 'shortName': 'Barcelona', 'municipalityName': 'Barcelona', 'location': {'lat': 41.2971, 'lon': 2.078459}, 'countryCode': 'ES'}, 'to': {'icao': 'SVBC', 'iata': 'BLA', 'name': 'Barcelona General Jose Antonio Anzoategui', 'shortName': 'General Jose Antonio Anzoategui', 'municipalityName': 'Barcelona', 'location': {'lat': 10.107099, 'lon': -64.6892}, 'countryCode': 'VE'}, 'greatCircleDistance': {'meter': 7337222.31, 'km': 7337.22, 'mile': 4559.14, 'nm': 3961.78, 'feet': 24072251.69}, 'approxFlightTime': '09:10:00'}\n"
     ]
    }
   ],
   "source": [
    "icao_from = 'LEBL'\n",
    "icao_to = 'SVBC'\n",
    "\n",
    "url = f\"https://aerodatabox.p.rapidapi.com/airports/icao/{icao_from}/distance-time/{icao_to}\"\n",
    "\n",
    "response = requests.get(url, headers=headers)\n",
    "\n",
    "print(response.json())"
   ]
  },
  {
   "cell_type": "code",
   "execution_count": null,
   "id": "810f4baf",
   "metadata": {},
   "outputs": [],
   "source": []
  }
 ],
 "metadata": {
  "kernelspec": {
   "display_name": "Python 3 (ipykernel)",
   "language": "python",
   "name": "python3"
  },
  "language_info": {
   "codemirror_mode": {
    "name": "ipython",
    "version": 3
   },
   "file_extension": ".py",
   "mimetype": "text/x-python",
   "name": "python",
   "nbconvert_exporter": "python",
   "pygments_lexer": "ipython3",
   "version": "3.11.4"
  }
 },
 "nbformat": 4,
 "nbformat_minor": 5
}
